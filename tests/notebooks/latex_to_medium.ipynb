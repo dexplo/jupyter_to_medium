{
 "cells": [
  {
   "cell_type": "markdown",
   "metadata": {},
   "source": [
    "# LaTeX to medium\n",
    "As being a dedicated user of jupyter notebooks in my research I was very pleased to hear about the \n",
    "[jupyter_to_medium](https://github.com/dexplo/jupyter_to_medium) package, also introduced in this [post](https://medium.com/dunder-data/jupyter-to-medium-initial-post-ecd140d339f0).\n",
    "I tried this package and was very impressed by how easy my work in jupyter could be converted into a medium post. One pretty essential part missing however, was the LaTeX equations from my notebooks...\n",
    "\n",
    "This was a known issue, but someone proposed that matplotlib could be used to render the equations into images stored in the notebooks, which would be converted to medium. Here is my attempt to do so..."
   ]
  },
  {
   "cell_type": "markdown",
   "metadata": {},
   "source": [
    "I wrote a simple method that uses matplotlib to render the equations:"
   ]
  },
  {
   "cell_type": "code",
   "execution_count": 3,
   "metadata": {
    "tags": [
     "show"
    ]
   },
   "outputs": [],
   "source": [
    "import matplotlib.pyplot as plt\n",
    "import sympy as sp\n",
    "\n",
    "def display(eq:sp.Eq, size=20):\n",
    "    \"\"\"\n",
    "    Use matplotlib to render LaTeX equations to figure within notebook.\n",
    "    \n",
    "    ----------\n",
    "    eq : str or sympy.Eq\n",
    "    LaTeX equation to render\n",
    "    \n",
    "    size : int\n",
    "    size of the equation\n",
    "    \"\"\"\n",
    "    \n",
    "    if isinstance(eq, str):\n",
    "        eq_latex = eq\n",
    "    else:\n",
    "        eq_latex = sp.latex(eq)\n",
    "\n",
    "    fig,ax=plt.subplots()\n",
    "    fig.set_size_inches(0.01, 0.01)\n",
    "    ax.axis(\"off\")\n",
    "    plt.title(r'$' + eq_latex + r'$' , size=size);"
   ]
  },
  {
   "cell_type": "markdown",
   "metadata": {},
   "source": [
    "As I'm also a big fan of the SymPy package, this method accepts equations both as pure LaTeX string or a SymPy expression. So it is either possible to write the LaTeX:"
   ]
  },
  {
   "cell_type": "code",
   "execution_count": 6,
   "metadata": {
    "tags": [
     "show"
    ]
   },
   "outputs": [
    {
     "data": {
      "image/png": "[encoded data removed]",
      "text/plain": [
       "<Figure size 0.72x0.72 with 1 Axes>"
      ]
     },
     "metadata": {
      "needs_background": "light"
     },
     "output_type": "display_data"
    }
   ],
   "source": [
    "eq = r'E = m*c^2'\n",
    "display(eq)"
   ]
  },
  {
   "cell_type": "code",
   "execution_count": 7,
   "metadata": {
    "tags": [
     "show"
    ]
   },
   "outputs": [
    {
     "data": {
      "image/png": "[encoded data removed]",
      "text/plain": [
       "<Figure size 0.72x0.72 with 1 Axes>"
      ]
     },
     "metadata": {
      "needs_background": "light"
     },
     "output_type": "display_data"
    }
   ],
   "source": [
    "E,m,c = sp.symbols('E m c')\n",
    "eq2 = sp.Eq(E,m*c**2)\n",
    "display(eq2)"
   ]
  },
  {
   "cell_type": "markdown",
   "metadata": {},
   "source": [
    "## Conclusions\n",
    "Eventhough this requires that you rewrite your notebooks using the display method, I think that this is still much more convenient than having to create these LaTeX equations as images in some other (more manual way). I will now definatelly used the [jupyter_to_medium](https://github.com/dexplo/jupyter_to_medium) package for my next post. "
   ]
  }
 ],
 "metadata": {
  "celltoolbar": "Tags",
  "kernelspec": {
   "display_name": "Python 3",
   "language": "python",
   "name": "python3"
  },
  "language_info": {
   "codemirror_mode": {
    "name": "ipython",
    "version": 3
   },
   "file_extension": ".py",
   "mimetype": "text/x-python",
   "name": "python",
   "nbconvert_exporter": "python",
   "pygments_lexer": "ipython3",
   "version": "3.6.5"
  }
 },
 "nbformat": 4,
 "nbformat_minor": 4
}
