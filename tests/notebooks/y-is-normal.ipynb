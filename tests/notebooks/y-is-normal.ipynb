{
 "cells": [
  {
   "cell_type": "code",
   "execution_count": 31,
   "metadata": {
    "_cell_guid": "b1076dfc-b9ad-4769-8c92-a6c4dae69d19",
    "_uuid": "8f2839f25d086af736a60e9eeb907d3b93b6e0e5",
    "execution": {
     "iopub.execute_input": "2021-04-19T20:12:44.559518Z",
     "iopub.status.busy": "2021-04-19T20:12:44.555667Z",
     "iopub.status.idle": "2021-04-19T20:12:45.913070Z",
     "shell.execute_reply": "2021-04-19T20:12:45.913613Z"
    },
    "tags": [
     "show"
    ]
   },
   "outputs": [],
   "source": [
    "# This Python 3 environment comes with many helpful analytics libraries installed\n",
    "# It is defined by the kaggle/python Docker image: https://github.com/kaggle/docker-python\n",
    "# For example, here's several helpful packages to load\n",
    "\n",
    "import numpy as np # linear algebra\n",
    "import pandas as pd # data processing, CSV file I/O (e.g. pd.read_csv)\n",
    "import matplotlib.pyplot as plt\n",
    "import seaborn as sns\n",
    "import sympy as sp"
   ]
  },
  {
   "cell_type": "code",
   "execution_count": 72,
   "metadata": {},
   "outputs": [],
   "source": [
    "def display(eq:sp.Eq, size=20):\n",
    "    \"\"\"\n",
    "    Use matplotlib to render LaTeX equations to figure within notebook.\n",
    "    \n",
    "    ----------\n",
    "    eq : str or sympy.Eq\n",
    "    LaTeX equation to render\n",
    "    \n",
    "    size : int\n",
    "    size of the equation\n",
    "    \"\"\"\n",
    "    \n",
    "    if isinstance(eq, str):\n",
    "        eq_latex = eq\n",
    "    else:\n",
    "        eq_latex = sp.latex(eq)\n",
    "\n",
    "    fig,ax=plt.subplots()\n",
    "    fig.set_size_inches(0.01, 0.01)\n",
    "    ax.axis(\"off\")\n",
    "    plt.title(r'$' + eq_latex + r'$' , size=size);"
   ]
  },
  {
   "cell_type": "markdown",
   "metadata": {},
   "source": [
    "# Is $Y$ normal?\n",
    "In linear regression, notation such as the below equation can be somewhat puzzeling, if you are a beginner, like me:"
   ]
  },
  {
   "cell_type": "code",
   "execution_count": 76,
   "metadata": {},
   "outputs": [
    {
     "data": {
      "image/png": "[encoded data removed]",
      "text/plain": [
       "<Figure size 0.72x0.72 with 1 Axes>"
      ]
     },
     "metadata": {
      "needs_background": "light"
     },
     "output_type": "display_data"
    }
   ],
   "source": [
    "eq = r'Y \\sim \\mathcal{N}(\\alpha+\\beta \\cdot x,\\epsilon)'\n",
    "display(eq)"
   ]
  },
  {
   "cell_type": "markdown",
   "metadata": {},
   "source": [
    "What does this mean?\n",
    "\n",
    "Does it mean that $ Y $ is now also normal distributed?"
   ]
  },
  {
   "cell_type": "code",
   "execution_count": 78,
   "metadata": {},
   "outputs": [
    {
     "data": {
      "image/png": "[encoded data removed]",
      "text/plain": [
       "<Figure size 0.72x0.72 with 1 Axes>"
      ]
     },
     "metadata": {
      "needs_background": "light"
     },
     "output_type": "display_data"
    }
   ],
   "source": [
    "eq = r'Y \\sim \\mathcal{N}(\\mu,\\,\\sigma^{2})\\ '\n",
    "display(eq)"
   ]
  },
  {
   "cell_type": "markdown",
   "metadata": {},
   "source": [
    "This notebook explores this a bit, in order to get a more clear understanding."
   ]
  },
  {
   "cell_type": "markdown",
   "metadata": {},
   "source": [
    "Lets consider a simple linear line:"
   ]
  },
  {
   "cell_type": "code",
   "execution_count": 79,
   "metadata": {
    "execution": {
     "iopub.execute_input": "2021-04-19T20:12:45.919624Z",
     "iopub.status.busy": "2021-04-19T20:12:45.918984Z",
     "iopub.status.idle": "2021-04-19T20:12:46.221481Z",
     "shell.execute_reply": "2021-04-19T20:12:46.220920Z"
    }
   },
   "outputs": [
    {
     "data": {
      "image/png": "[encoded data removed]",
      "text/plain": [
       "<Figure size 0.72x0.72 with 1 Axes>"
      ]
     },
     "metadata": {
      "needs_background": "light"
     },
     "output_type": "display_data"
    }
   ],
   "source": [
    "x,y,alpha,beta = sp.symbols('x y alpha beta')\n",
    "eq = sp.Eq(y,\n",
    "          alpha + beta*x)\n",
    "display(eq)"
   ]
  },
  {
   "cell_type": "code",
   "execution_count": 80,
   "metadata": {
    "execution": {
     "iopub.execute_input": "2021-04-19T20:12:46.227645Z",
     "iopub.status.busy": "2021-04-19T20:12:46.226993Z",
     "iopub.status.idle": "2021-04-19T20:12:46.241845Z",
     "shell.execute_reply": "2021-04-19T20:12:46.241247Z"
    },
    "tags": [
     "remove_cell"
    ]
   },
   "outputs": [
    {
     "data": {
      "text/plain": [
       "<function _lambdifygenerated(x, alpha, beta)>"
      ]
     },
     "execution_count": 80,
     "metadata": {},
     "output_type": "execute_result"
    }
   ],
   "source": [
    "## Converting sympy expression to python method:\n",
    "lambda_eq = sp.lambdify([x,alpha,beta],eq.rhs)\n",
    "lambda_eq"
   ]
  },
  {
   "cell_type": "markdown",
   "metadata": {},
   "source": [
    "Here is a graph showing this line for 5 values of $x$:"
   ]
  },
  {
   "cell_type": "code",
   "execution_count": 81,
   "metadata": {
    "execution": {
     "iopub.execute_input": "2021-04-19T20:12:46.249335Z",
     "iopub.status.busy": "2021-04-19T20:12:46.248053Z",
     "iopub.status.idle": "2021-04-19T20:12:46.256318Z",
     "shell.execute_reply": "2021-04-19T20:12:46.255734Z"
    },
    "tags": [
     "remove_cell"
    ]
   },
   "outputs": [],
   "source": [
    "N_x = 5\n",
    "N_epsilon = 1000\n",
    "N = N_x*N_epsilon\n",
    "\n",
    "\n",
    "xs = np.linspace(0,1, int(N_x))\n",
    "x_ = np.tile(xs,N_epsilon)\n",
    "\n",
    "df = pd.DataFrame(index=x_)\n",
    "df['x'] = x_\n",
    "df['alpha'] = 10\n",
    "df['beta'] = 60\n",
    "df['y'] = lambda_eq(x=df['x'], alpha=df['alpha'], beta=df['beta'])"
   ]
  },
  {
   "cell_type": "code",
   "execution_count": 82,
   "metadata": {
    "execution": {
     "iopub.execute_input": "2021-04-19T20:12:46.285476Z",
     "iopub.status.busy": "2021-04-19T20:12:46.284796Z",
     "iopub.status.idle": "2021-04-19T20:12:46.540464Z",
     "shell.execute_reply": "2021-04-19T20:12:46.541055Z"
    },
    "tags": [
     "remove_input"
    ]
   },
   "outputs": [
    {
     "data": {
      "image/png": "[encoded data removed]",
      "text/plain": [
       "<Figure size 432x288 with 1 Axes>"
      ]
     },
     "metadata": {
      "needs_background": "light"
     },
     "output_type": "display_data"
    }
   ],
   "source": [
    "fig,ax=plt.subplots()\n",
    "df.groupby(by='x').first().plot(y='y', style='o-', lw=2, ax=ax, zorder=2)\n",
    "ax.set_ylabel('y')\n",
    "ax.set_xlabel('x');"
   ]
  },
  {
   "cell_type": "markdown",
   "metadata": {},
   "source": [
    "Let's pretend that this line represents something that we can measure from a physical experiment. We assume that the measuring error is normal distributed $ \\epsilon \\sim \\mathcal{N}(0,\\,\\sigma^{2})\\ $ so that the measured values of $y$ is expressed as:"
   ]
  },
  {
   "cell_type": "code",
   "execution_count": 83,
   "metadata": {
    "execution": {
     "iopub.execute_input": "2021-04-19T20:12:46.551468Z",
     "iopub.status.busy": "2021-04-19T20:12:46.550773Z",
     "iopub.status.idle": "2021-04-19T20:12:46.554549Z",
     "shell.execute_reply": "2021-04-19T20:12:46.555090Z"
    },
    "tags": [
     "remove_input"
    ]
   },
   "outputs": [
    {
     "data": {
      "image/png": "[encoded data removed]",
      "text/plain": [
       "<Figure size 0.72x0.72 with 1 Axes>"
      ]
     },
     "metadata": {
      "needs_background": "light"
     },
     "output_type": "display_data"
    }
   ],
   "source": [
    "epsilon = sp.symbols('epsilon')\n",
    "eq_probabalitic = sp.Eq(eq.lhs,\n",
    "                       eq.rhs + epsilon)\n",
    "\n",
    "display(eq_probabalitic)"
   ]
  },
  {
   "cell_type": "markdown",
   "metadata": {},
   "source": [
    "We measure $y$ 1000 times for each of the 5 values of $x$. This means that we will get 1000 values of the measuring error $\\epsilon \\sim \\mathcal{N}(0,2^{2})\\ $ for each $x$."
   ]
  },
  {
   "cell_type": "code",
   "execution_count": 84,
   "metadata": {
    "execution": {
     "iopub.execute_input": "2021-04-19T20:12:46.561079Z",
     "iopub.status.busy": "2021-04-19T20:12:46.560428Z",
     "iopub.status.idle": "2021-04-19T20:12:46.568784Z",
     "shell.execute_reply": "2021-04-19T20:12:46.568176Z"
    },
    "tags": [
     "remove_input"
    ]
   },
   "outputs": [],
   "source": [
    "np.random.seed(42)\n",
    "df['epsilon'] = df.groupby('x')['y'].transform(lambda x: np.random.normal(loc=0, scale = 2.0, size=N_epsilon))"
   ]
  },
  {
   "cell_type": "code",
   "execution_count": 85,
   "metadata": {
    "execution": {
     "iopub.execute_input": "2021-04-19T20:12:46.575951Z",
     "iopub.status.busy": "2021-04-19T20:12:46.575272Z",
     "iopub.status.idle": "2021-04-19T20:12:46.578967Z",
     "shell.execute_reply": "2021-04-19T20:12:46.578184Z"
    },
    "tags": [
     "remove_cell"
    ]
   },
   "outputs": [
    {
     "data": {
      "text/plain": [
       "<function _lambdifygenerated(x, alpha, beta, epsilon)>"
      ]
     },
     "execution_count": 85,
     "metadata": {},
     "output_type": "execute_result"
    }
   ],
   "source": [
    "## Converting sympy expression to python method:\n",
    "lambda_eq_probabalitic = sp.lambdify([x,alpha,beta,epsilon],eq_probabalitic.rhs)\n",
    "lambda_eq_probabalitic"
   ]
  },
  {
   "cell_type": "code",
   "execution_count": 86,
   "metadata": {
    "execution": {
     "iopub.execute_input": "2021-04-19T20:12:46.585010Z",
     "iopub.status.busy": "2021-04-19T20:12:46.584363Z",
     "iopub.status.idle": "2021-04-19T20:12:46.586554Z",
     "shell.execute_reply": "2021-04-19T20:12:46.587080Z"
    },
    "tags": [
     "remove_cell"
    ]
   },
   "outputs": [],
   "source": [
    "df['y_measure'] = lambda_eq_probabalitic(x=df['x'], alpha=df['alpha'], beta=df['beta'], epsilon=df['epsilon'])\n"
   ]
  },
  {
   "cell_type": "markdown",
   "metadata": {},
   "source": [
    "The measured values of $y$ is shown in the graph below:"
   ]
  },
  {
   "cell_type": "code",
   "execution_count": 87,
   "metadata": {
    "execution": {
     "iopub.execute_input": "2021-04-19T20:12:46.612037Z",
     "iopub.status.busy": "2021-04-19T20:12:46.608455Z",
     "iopub.status.idle": "2021-04-19T20:12:46.808745Z",
     "shell.execute_reply": "2021-04-19T20:12:46.808200Z"
    },
    "tags": [
     "remove_input"
    ]
   },
   "outputs": [
    {
     "data": {
      "image/png": "[encoded data removed]",
      "text/plain": [
       "<Figure size 432x288 with 1 Axes>"
      ]
     },
     "metadata": {
      "needs_background": "light"
     },
     "output_type": "display_data"
    }
   ],
   "source": [
    "fig,ax=plt.subplots()\n",
    "df.plot(y='y', style='-', lw=2, ax=ax, zorder=2)\n",
    "df.plot(y='y_measure', style='.', alpha=0.05, ax=ax, zorder=1)\n",
    "ax.set_ylabel('y')\n",
    "ax.set_xlabel('x');"
   ]
  },
  {
   "cell_type": "markdown",
   "metadata": {},
   "source": [
    "The measured $y$ has values distributed around the true values of $y$. These distributions becomes even more visible if we create histograms of the measured $y$:"
   ]
  },
  {
   "cell_type": "code",
   "execution_count": 88,
   "metadata": {
    "execution": {
     "iopub.execute_input": "2021-04-19T20:12:46.834217Z",
     "iopub.status.busy": "2021-04-19T20:12:46.833551Z",
     "iopub.status.idle": "2021-04-19T20:12:47.339164Z",
     "shell.execute_reply": "2021-04-19T20:12:47.338560Z"
    },
    "tags": [
     "remove_input"
    ]
   },
   "outputs": [
    {
     "data": {
      "image/png": "[encoded data removed]",
      "text/plain": [
       "<Figure size 432x288 with 1 Axes>"
      ]
     },
     "metadata": {
      "needs_background": "light"
     },
     "output_type": "display_data"
    }
   ],
   "source": [
    "fig,ax=plt.subplots()\n",
    "for the_x, group in df.groupby(by='x'):\n",
    "    group.hist(column='y_measure', bins=20, ax=ax, label='x=%0.2f' % the_x)\n",
    "    \n",
    "ax.set_xlabel('y_measure')\n",
    "ax.legend();"
   ]
  },
  {
   "cell_type": "markdown",
   "metadata": {},
   "source": [
    "So it is very clear from the above graph that the measured $y$ is not normal distributed but the measurement error $\\epsilon$ (being the deviation from the idealized line) is:"
   ]
  },
  {
   "cell_type": "code",
   "execution_count": 89,
   "metadata": {
    "execution": {
     "iopub.execute_input": "2021-04-19T20:12:47.354670Z",
     "iopub.status.busy": "2021-04-19T20:12:47.345298Z",
     "iopub.status.idle": "2021-04-19T20:12:47.867725Z",
     "shell.execute_reply": "2021-04-19T20:12:47.867170Z"
    },
    "tags": [
     "remove_input"
    ]
   },
   "outputs": [
    {
     "data": {
      "image/png": "[encoded data removed]",
      "text/plain": [
       "<Figure size 432x288 with 1 Axes>"
      ]
     },
     "metadata": {
      "needs_background": "light"
     },
     "output_type": "display_data"
    }
   ],
   "source": [
    "ax_epsilon = sns.histplot(data=df, x=\"epsilon\", stat=\"density\", bins=20, kde=True);\n",
    "#ax_epsilon.set_xlim(ax_y.get_xlim());\n",
    "ax_epsilon.set_xlabel('Measure error: $\\epsilon$');"
   ]
  },
  {
   "cell_type": "markdown",
   "metadata": {},
   "source": [
    "The histogram of the idealized $y$ looks like this, by the way:"
   ]
  },
  {
   "cell_type": "code",
   "execution_count": 90,
   "metadata": {
    "execution": {
     "iopub.execute_input": "2021-04-19T20:12:47.894773Z",
     "iopub.status.busy": "2021-04-19T20:12:47.873214Z",
     "iopub.status.idle": "2021-04-19T20:12:48.102707Z",
     "shell.execute_reply": "2021-04-19T20:12:48.103291Z"
    },
    "tags": [
     "remove_input"
    ]
   },
   "outputs": [
    {
     "data": {
      "image/png": "[encoded data removed]",
      "text/plain": [
       "<Figure size 432x288 with 1 Axes>"
      ]
     },
     "metadata": {
      "needs_background": "light"
     },
     "output_type": "display_data"
    }
   ],
   "source": [
    "ax_y = sns.histplot(data=df, x=\"y\", stat=\"density\", bins=20, kde=True);"
   ]
  }
 ],
 "metadata": {
  "celltoolbar": "Tags",
  "kernelspec": {
   "display_name": "Python 3",
   "language": "python",
   "name": "python3"
  },
  "language_info": {
   "codemirror_mode": {
    "name": "ipython",
    "version": 3
   },
   "file_extension": ".py",
   "mimetype": "text/x-python",
   "name": "python",
   "nbconvert_exporter": "python",
   "pygments_lexer": "ipython3",
   "version": "3.6.5"
  }
 },
 "nbformat": 4,
 "nbformat_minor": 4
}
